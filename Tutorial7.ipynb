{
 "cells": [
  {
   "cell_type": "code",
   "execution_count": 2,
   "id": "fa8b89de-5c8d-4e6d-bcbf-6298300760e4",
   "metadata": {},
   "outputs": [
    {
     "name": "stderr",
     "output_type": "stream",
     "text": [
      "[nltk_data] Downloading package punkt to\n",
      "[nltk_data]     C:\\Users\\najmulu\\AppData\\Roaming\\nltk_data...\n",
      "[nltk_data]   Package punkt is already up-to-date!\n",
      "[nltk_data] Downloading package averaged_perceptron_tagger to\n",
      "[nltk_data]     C:\\Users\\najmulu\\AppData\\Roaming\\nltk_data...\n",
      "[nltk_data]   Package averaged_perceptron_tagger is already up-to-\n",
      "[nltk_data]       date!\n",
      "[nltk_data] Downloading package maxent_ne_chunker to\n",
      "[nltk_data]     C:\\Users\\najmulu\\AppData\\Roaming\\nltk_data...\n",
      "[nltk_data]   Package maxent_ne_chunker is already up-to-date!\n",
      "[nltk_data] Downloading package words to\n",
      "[nltk_data]     C:\\Users\\najmulu\\AppData\\Roaming\\nltk_data...\n",
      "[nltk_data]   Package words is already up-to-date!\n"
     ]
    },
    {
     "data": {
      "text/plain": [
       "True"
      ]
     },
     "execution_count": 2,
     "metadata": {},
     "output_type": "execute_result"
    }
   ],
   "source": [
    "\n",
    "import nltk\n",
    "from nltk import pos_tag, word_tokenize, sent_tokenize\n",
    "from nltk.chunk import ne_chunk\n",
    "\n",
    "from rdflib import Graph, URIRef, Namespace\n",
    "from rdflib.plugins.sparql import prepareQuery\n",
    "\n",
    "import networkx as nx\n",
    "import matplotlib.pyplot as plt\n",
    "\n",
    "nltk.download(\"punkt\")\n",
    "nltk.download(\"averaged_perceptron_tagger\")\n",
    "nltk.download(\"maxent_ne_chunker\")\n",
    "nltk.download(\"words\")\n"
   ]
  },
  {
   "cell_type": "code",
   "execution_count": 3,
   "id": "30b21a8d-77fb-4b6e-972b-62622093899a",
   "metadata": {},
   "outputs": [
    {
     "name": "stdout",
     "output_type": "stream",
     "text": [
      "Entities: ['Bob', 'Beijing'] Relationships: ['lives']\n"
     ]
    }
   ],
   "source": [
    "# Function to extract entities and relationships\n",
    "def extract_entities_and_relationships(text):\n",
    "    tokens = word_tokenize(text)\n",
    "    tagged = pos_tag(tokens)\n",
    "    entities = []\n",
    "    relationships = []\n",
    "    \n",
    "\n",
    "    tree = ne_chunk(tagged)\n",
    "    \n",
    "    # Extract entities (nouns via NER chunks)\n",
    "    for subtree in tree:\n",
    "        if hasattr(subtree, 'label'):\n",
    "            entity = \" \".join([word for word, tag in subtree.leaves()])\n",
    "            entities.append(entity)\n",
    "    \n",
    "    # Extract relationships (verbs)\n",
    "    for word, pos in tagged:\n",
    "        if pos.startswith('VB'):  # Verbs represent relationships\n",
    "            relationships.append(word)\n",
    "    \n",
    "    return entities, relationships\n",
    "\n",
    "sentences_text = \"Bob lives in Beijing.\"\n",
    "entities, relationships = extract_entities_and_relationships(sentences_text)\n",
    "print(\"Entities:\", entities, \"Relationships:\", relationships)\n"
   ]
  },
  {
   "cell_type": "code",
   "execution_count": 4,
   "id": "3d42c67e-3166-404c-96b4-941291d7a785",
   "metadata": {},
   "outputs": [
    {
     "name": "stdout",
     "output_type": "stream",
     "text": [
      "@prefix ns1: <http://example.org/> .\n",
      "\n",
      "ns1:Bob ns1:lives ns1:Beijing .\n",
      "\n",
      "\n"
     ]
    }
   ],
   "source": [
    "# Function to create the knowledge graph\n",
    "def build_knowledge_graph(entities, relationships):\n",
    "    g = Graph()\n",
    "    EX = Namespace(\"http://example.org/\")\n",
    "    # Basic example: Assuming entity1 is subject, relationship is predicate, and entity2 is object\n",
    "    for i in range(min(len(relationships), len(entities) - 1)):\n",
    "        subject = URIRef(EX[entities[i]])\n",
    "        predicate = URIRef(EX[relationships[i]])\n",
    "        obj = URIRef(EX[entities[i + 1]])\n",
    "        g.add((subject, predicate, obj))\n",
    "    return g\n",
    "\n",
    "# Build the graph from the single sentence\n",
    "g = build_knowledge_graph(entities, relationships)\n",
    "\n",
    "# Print the graph in turtle format\n",
    "print(g.serialize(format='turtle'))\n"
   ]
  },
  {
   "cell_type": "code",
   "execution_count": 5,
   "id": "31dfd060-df2d-4431-b159-b9158401b8ae",
   "metadata": {},
   "outputs": [
    {
     "name": "stdout",
     "output_type": "stream",
     "text": [
      "http://example.org/Bob http://example.org/lives http://example.org/Beijing\n"
     ]
    }
   ],
   "source": [
    "query = prepareQuery('''\n",
    "  SELECT ?subject ?predicate ?object\n",
    "  WHERE {\n",
    "    ?subject ?predicate ?object .\n",
    "  }\n",
    "''')\n",
    "\n",
    "# Execute the query\n",
    "for row in g.query(query):\n",
    "    print(f\"{row.subject} {row.predicate} {row.object}\")\n"
   ]
  },
  {
   "cell_type": "code",
   "execution_count": 6,
   "id": "429be202-4a1f-4feb-9d2e-becabe742264",
   "metadata": {},
   "outputs": [
    {
     "data": {
      "image/png": "[encoded data removed]",
      "text/plain": [
       "<Figure size 800x600 with 1 Axes>"
      ]
     },
     "metadata": {},
     "output_type": "display_data"
    }
   ],
   "source": [
    "def visualize_knowledge_graph(graph):\n",
    "    G = nx.DiGraph()\n",
    "\n",
    "    # Add triples as edges in the NetworkX graph\n",
    "    for s, p, o in graph:\n",
    "        G.add_edge(str(s).split('/')[-1], str(o).split('/')[-1], label=str(p).split('/')[-1])\n",
    "\n",
    "    pos = nx.spring_layout(G)\n",
    "    \n",
    "    # Plot the graph\n",
    "    plt.figure(figsize=(8, 6))\n",
    "    nx.draw(G, pos, with_labels=True, node_color='skyblue', node_size=3000,\n",
    "            font_size=10, font_weight='bold', arrows=True)\n",
    "\n",
    "    # Add edge labels\n",
    "    edge_labels = nx.get_edge_attributes(G, 'label')\n",
    "    nx.draw_networkx_edge_labels(G, pos, edge_labels=edge_labels)\n",
    "\n",
    "    plt.show()\n",
    "\n",
    "# Visualize the graph\n",
    "visualize_knowledge_graph(g)\n"
   ]
  },
  {
   "cell_type": "code",
   "execution_count": 7,
   "id": "50bb8a5a-9e8b-4295-b85b-e2c6a3602779",
   "metadata": {},
   "outputs": [
    {
     "name": "stdout",
     "output_type": "stream",
     "text": [
      "@prefix ns1: <http://example.org/> .\n",
      "\n",
      "ns1:Alice ns1:lives ns1:Sydney .\n",
      "\n",
      "ns1:Bob ns1:lives ns1:Beijing .\n",
      "\n",
      "ns1:Jordan ns1:lives ns1:Paris .\n",
      "\n",
      "\n",
      "http://example.org/Bob http://example.org/lives http://example.org/Beijing\n",
      "http://example.org/Alice http://example.org/lives http://example.org/Sydney\n",
      "http://example.org/Jordan http://example.org/lives http://example.org/Paris\n"
     ]
    },
    {
     "data": {
      "image/png": "[encoded data removed]",
      "text/plain": [
       "<Figure size 800x600 with 1 Axes>"
      ]
     },
     "metadata": {},
     "output_type": "display_data"
    }
   ],
   "source": [
    "# Multi-sentence input \n",
    "sentences_text = \"Bob lives in Beijing. Alice lives in Sydney. Jordan lives in Paris\"\n",
    "\n",
    "# Build a combined KG by processing each sentence separately\n",
    "g_multi = Graph()\n",
    "EX = Namespace(\"http://example.org/\")\n",
    "\n",
    "# Split into sentences and process each\n",
    "for sent in sent_tokenize(sentences_text):\n",
    "    ents, rels = extract_entities_and_relationships(sent)\n",
    "    g_sent = build_knowledge_graph(ents, rels)\n",
    "    for triple in g_sent:\n",
    "        g_multi.add(triple)\n",
    "\n",
    "# Show the combined graph in Turtle\n",
    "print(g_multi.serialize(format='turtle'))\n",
    "\n",
    "# SPARQL over the combined graph\n",
    "for row in g_multi.query(query):\n",
    "    print(f\"{row.subject} {row.predicate} {row.object}\")\n",
    "\n",
    "# Visualize the combined graph\n",
    "visualize_knowledge_graph(g_multi)\n"
   ]
  },
  {
   "cell_type": "code",
   "execution_count": null,
   "id": "a16e9612-9f45-4d68-a2f4-3d8a1cd8b5c2",
   "metadata": {},
   "outputs": [],
   "source": []
  }
 ],
 "metadata": {
  "kernelspec": {
   "display_name": "Python 3 (ipykernel)",
   "language": "python",
   "name": "python3"
  },
  "language_info": {
   "codemirror_mode": {
    "name": "ipython",
    "version": 3
   },
   "file_extension": ".py",
   "mimetype": "text/x-python",
   "name": "python",
   "nbconvert_exporter": "python",
   "pygments_lexer": "ipython3",
   "version": "3.12.4"
  }
 },
 "nbformat": 4,
 "nbformat_minor": 5
}
