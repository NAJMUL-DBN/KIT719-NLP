{
 "cells": [
  {
   "cell_type": "code",
   "execution_count": 1,
   "id": "4629e671-07dc-4638-8143-8e795d5eddb9",
   "metadata": {},
   "outputs": [
    {
     "name": "stdout",
     "output_type": "stream",
     "text": [
      "showing info https://raw.githubusercontent.com/nltk/nltk_data/gh-pages/index.xml\n"
     ]
    },
    {
     "data": {
      "text/plain": [
       "True"
      ]
     },
     "execution_count": 1,
     "metadata": {},
     "output_type": "execute_result"
    }
   ],
   "source": [
    "import nltk\n",
    "nltk.download()"
   ]
  },
  {
   "cell_type": "code",
   "execution_count": 5,
   "id": "187517fe-d542-4d50-bab4-3a34d634a8cd",
   "metadata": {},
   "outputs": [
    {
     "name": "stdout",
     "output_type": "stream",
     "text": [
      "Sentence Tokenization:\n",
      "['Hello there, KIT719 is about NLP and AI!', 'I love AI.', 'I love NLP']\n",
      "Word Tokenization:\n",
      "['Hello', 'there', ',', 'KIT719', 'is', 'about', 'NLP', 'and', 'AI', '!', 'I', 'love', 'AI', '.', 'I', 'love', 'NLP']\n"
     ]
    }
   ],
   "source": [
    "from nltk.tokenize import sent_tokenize, word_tokenize, RegexpTokenizer\n",
    "from nltk.corpus import stopwords\n",
    "\n",
    " \n",
    "my_text=\"Hello there, KIT719 is about NLP and AI! I love AI. I love NLP\"\n",
    "\n",
    " \n",
    "print(\"Sentence Tokenization:\")\n",
    "print(sent_tokenize(my_text))\n",
    "\n",
    "\n",
    "words = word_tokenize(my_text)\n",
    "print(\"Word Tokenization:\")\n",
    "print(words)\n"
   ]
  },
  {
   "cell_type": "code",
   "execution_count": 6,
   "id": "e2b0cc08-b9a9-4c31-a813-8dfc4246c0f7",
   "metadata": {},
   "outputs": [
    {
     "name": "stdout",
     "output_type": "stream",
     "text": [
      "\n",
      "Filtered Words (no stopwords):\n",
      "['Hello', ',', 'KIT719', 'NLP', 'AI', '!', 'love', 'AI', '.', 'love', 'NLP']\n"
     ]
    }
   ],
   "source": [
    "stop_words_eng = set(stopwords.words(\"english\"))\n",
    "\n",
    "filtered_sentence = []\n",
    "for w in words:\n",
    "    if w.lower() not in stop_words_eng:\n",
    "        filtered_sentence.append(w)\n",
    "\n",
    "print(\"\\nFiltered Words (no stopwords):\")\n",
    "print(filtered_sentence)\n"
   ]
  },
  {
   "cell_type": "code",
   "execution_count": 7,
   "id": "d11e390e-1e7c-4d60-9d96-bbd1c0cbf43d",
   "metadata": {},
   "outputs": [
    {
     "name": "stdout",
     "output_type": "stream",
     "text": [
      "\n",
      "Filtered Words (no stopwords or punctuation):\n",
      "['Hello', 'KIT719', 'NLP', 'AI', 'love', 'AI', 'love', 'NLP']\n"
     ]
    }
   ],
   "source": [
    "tokenizer = RegexpTokenizer(r'\\w+')\n",
    "words = tokenizer.tokenize(my_text)\n",
    "\n",
    "filtered_sentence = []\n",
    "for w in words:\n",
    "    if w.lower() not in stop_words_eng:\n",
    "        filtered_sentence.append(w)\n",
    "\n",
    "print(\"\\nFiltered Words (no stopwords or punctuation):\")\n",
    "print(filtered_sentence)\n"
   ]
  },
  {
   "cell_type": "code",
   "execution_count": 9,
   "id": "532d2d51-056c-4783-99ca-e056aa6e62f4",
   "metadata": {},
   "outputs": [
    {
     "name": "stdout",
     "output_type": "stream",
     "text": [
      "\n",
      "Content of GAITXT.txt:\n",
      "\n",
      "Generative AI is a subset of artificial intelligence that focuses on creating new content, data, or solutions rather than merely analyzing or acting on existing information. It leverages complex algorithms, often based on deep learning techniques like neural networks, to produce outputs that mimic human creativity and intelligence. These outputs can range from text, images, and music to entire virtual environments and even software code.\n",
      "\n",
      "Generative AI models, such as GPT (Generative Pre-trained Transformer) for text and GANs (Generative Adversarial Networks) for images, learn from vast amounts of data to understand patterns, structures, and styles. This understanding allows them to generate novel content that is coherent, contextually relevant, and often indistinguishable from human-created content.\n",
      "\n",
      "Applications of generative AI are vast and varied, encompassing areas like content creation, virtual assistance, design, entertainment, and personalized marketing. It is used to write articles, generate realistic images and animations, compose music, design products, and even assist in scientific research by generating hypotheses or simulating complex processes.\n",
      "\n",
      "Despite its potential, generative AI also poses challenges, including ethical concerns related to misinformation, intellectual property, and the potential for biased or harmful outputs. Addressing these challenges requires ongoing research, robust regulatory frameworks, and a commitment to developing AI responsibly and transparently.\n"
     ]
    }
   ],
   "source": [
    "\n",
    "file_content = open(\"GAITXT.txt\", \"r\", encoding=\"utf-8\").read()\n",
    "print(\"\\nContent of GAITXT.txt:\\n\")\n",
    "print(file_content)\n",
    "\n",
    "\n",
    "with open(\"out1.txt\", \"a\", encoding=\"utf-8\") as out1:\n",
    "    out1.write(file_content)\n"
   ]
  },
  {
   "cell_type": "code",
   "execution_count": 12,
   "id": "b8ec8d94-bd0d-43f8-afd9-83a1bc3a014a",
   "metadata": {},
   "outputs": [
    {
     "name": "stdout",
     "output_type": "stream",
     "text": [
      "\n",
      "Filtered Content (GAITXT.txt):\n",
      "\n",
      "Generative AI subset artificial intelligence focuses creating new content data solutions rather merely analyzing acting existing information leverages complex algorithms often based deep learning techniques like neural networks produce outputs mimic human creativity intelligence outputs range text images music entire virtual environments even software code Generative AI models GPT Generative Pre trained Transformer text GANs Generative Adversarial Networks images learn vast amounts data understand patterns structures styles understanding allows generate novel content coherent contextually relevant often indistinguishable human created content Applications generative AI vast varied encompassing areas like content creation virtual assistance design entertainment personalized marketing used write articles generate realistic images animations compose music design products even assist scientific research generating hypotheses simulating complex processes Despite potential generative AI also poses challenges including ethical concerns related misinformation intellectual property potential biased harmful outputs Addressing challenges requires ongoing research robust regulatory frameworks commitment developing AI responsibly transparently\n",
      "\n",
      " Filtered content written to out2.txt\n"
     ]
    }
   ],
   "source": [
    "# Tokenize file content and remove stopwords/punctuations\n",
    "tokenizer = RegexpTokenizer(r'\\w+')\n",
    "words = tokenizer.tokenize(file_content)\n",
    "\n",
    "filtered_words = [w for w in words if w.lower() not in stop_words_eng]\n",
    "\n",
    "# Join filtered words to a string\n",
    "filtered_text = ' '.join(filtered_words)\n",
    "\n",
    "# Print and save to out2.txt\n",
    "print(\"\\nFiltered Content (GAITXT.txt):\\n\")\n",
    "print(filtered_text)\n",
    "\n",
    "with open(\"out2.txt\", \"w\", encoding=\"utf-8\") as out2:\n",
    "    out2.write(filtered_text)\n",
    "\n",
    "print(\"\\n Filtered content written to out2.txt\")\n"
   ]
  },
  {
   "cell_type": "code",
   "execution_count": null,
   "id": "858ff4bc-b21e-4dfb-aae6-13daa1dec3fc",
   "metadata": {},
   "outputs": [],
   "source": []
  }
 ],
 "metadata": {
  "kernelspec": {
   "display_name": "Python 3 (ipykernel)",
   "language": "python",
   "name": "python3"
  },
  "language_info": {
   "codemirror_mode": {
    "name": "ipython",
    "version": 3
   },
   "file_extension": ".py",
   "mimetype": "text/x-python",
   "name": "python",
   "nbconvert_exporter": "python",
   "pygments_lexer": "ipython3",
   "version": "3.12.4"
  }
 },
 "nbformat": 4,
 "nbformat_minor": 5
}
