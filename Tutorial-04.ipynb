{
 "cells": [
  {
   "cell_type": "code",
   "execution_count": 1,
   "id": "ea8e5ba5-4a86-4482-9d66-d24204bdcc8e",
   "metadata": {},
   "outputs": [
    {
     "name": "stderr",
     "output_type": "stream",
     "text": [
      "[nltk_data] Downloading package punkt to\n",
      "[nltk_data]     C:\\Users\\najmulu\\AppData\\Roaming\\nltk_data...\n",
      "[nltk_data]   Unzipping tokenizers\\punkt.zip.\n",
      "[nltk_data] Downloading package averaged_perceptron_tagger to\n",
      "[nltk_data]     C:\\Users\\najmulu\\AppData\\Roaming\\nltk_data...\n",
      "[nltk_data]   Unzipping taggers\\averaged_perceptron_tagger.zip.\n",
      "[nltk_data] Downloading package wordnet to\n",
      "[nltk_data]     C:\\Users\\najmulu\\AppData\\Roaming\\nltk_data...\n",
      "[nltk_data] Downloading package omw-1.4 to\n",
      "[nltk_data]     C:\\Users\\najmulu\\AppData\\Roaming\\nltk_data...\n"
     ]
    },
    {
     "data": {
      "text/plain": [
       "True"
      ]
     },
     "execution_count": 1,
     "metadata": {},
     "output_type": "execute_result"
    }
   ],
   "source": [
    "import nltk\n",
    "nltk.download('punkt')\n",
    "nltk.download('averaged_perceptron_tagger')\n",
    "nltk.download('wordnet')\n",
    "nltk.download('omw-1.4')\n"
   ]
  },
  {
   "cell_type": "code",
   "execution_count": 4,
   "id": "6f8c6bc1-a04a-4d23-aaa2-c9ac0f676118",
   "metadata": {},
   "outputs": [],
   "source": [
    "import nltk\n",
    "from nltk.corpus import wordnet as wn\n",
    "from nltk.corpus import stopwords\n",
    "from nltk.wsd import lesk\n"
   ]
  },
  {
   "cell_type": "code",
   "execution_count": 5,
   "id": "b0c47a3f-e29d-4176-a417-28bd48ee231a",
   "metadata": {},
   "outputs": [
    {
     "name": "stdout",
     "output_type": "stream",
     "text": [
      "[Synset('college.n.01'), Synset('college.n.02'), Synset('college.n.03')]\n"
     ]
    }
   ],
   "source": [
    "senses = wn.synsets(\"college\")\n",
    "print(senses)\n"
   ]
  },
  {
   "cell_type": "code",
   "execution_count": 6,
   "id": "f5d94eca-a9de-411b-b66b-d1fa8ed57890",
   "metadata": {},
   "outputs": [
    {
     "name": "stdout",
     "output_type": "stream",
     "text": [
      "an institution of higher education created to educate and grant degrees; often a part of a university\n"
     ]
    }
   ],
   "source": [
    "print(senses[1].definition())\n"
   ]
  },
  {
   "cell_type": "code",
   "execution_count": 7,
   "id": "5798cf1a-0dc9-4713-963b-d7eec87c521b",
   "metadata": {},
   "outputs": [
    {
     "name": "stdout",
     "output_type": "stream",
     "text": [
      "an institution of higher education created to educate and grant degrees; often a part of a university\n",
      "a large and diverse institution of higher learning created to educate for life and for a profession and to grant degrees\n",
      "a plant consisting of one or more buildings with facilities for manufacturing\n",
      "0.875\n",
      "0.11764705882352941\n"
     ]
    }
   ],
   "source": [
    "print(wn.synset('college.n.02').definition())\n",
    "print(wn.synset('university.n.03').definition())\n",
    "print(wn.synset('factory.n.01').definition())\n",
    "\n",
    "w1 = wn.synset('college.n.02')\n",
    "w2 = wn.synset('university.n.03')\n",
    "w3 = wn.synset('factory.n.01')\n",
    "\n",
    "print(w1.wup_similarity(w2))\n",
    "print(w1.wup_similarity(w3))\n"
   ]
  },
  {
   "cell_type": "code",
   "execution_count": 8,
   "id": "d571f3bf-0d92-4a3b-aa76-c76af9563922",
   "metadata": {},
   "outputs": [
    {
     "name": "stdout",
     "output_type": "stream",
     "text": [
      "The sense of the word 'bank' is 'savings_bank.n.02' which means 'a container (usually with a slot in the top) for keeping money at home'\n"
     ]
    }
   ],
   "source": [
    "sentence = \"I went to the bank to deposit some money.\"\n",
    "tokens = nltk.word_tokenize(sentence)\n",
    "tagged_tokens = nltk.pos_tag(tokens)\n",
    "\n",
    "word = 'bank'\n",
    "context = tokens\n",
    "sense = lesk(context, word)\n",
    "\n",
    "print(f\"The sense of the word '{word}' is '{sense.name()}' which means '{sense.definition()}'\")\n"
   ]
  },
  {
   "cell_type": "code",
   "execution_count": null,
   "id": "4bc58e66-3422-4f18-9cce-d220fb5f8c0c",
   "metadata": {},
   "outputs": [
    {
     "name": "stdout",
     "output_type": "stream",
     "text": [
      "=== Word Sense Disambiguation (Lesk) ===\n"
     ]
    }
   ],
   "source": [
    "print(\"=== Word Sense Disambiguation (Lesk) ===\")\n",
    "user_sentence = input(\"Enter a sentence: \").strip()\n",
    "user_word = input(\"Which word you want to check: \").strip()\n",
    "\n",
    "tokens = nltk.word_tokenize(user_sentence)\n",
    "if user_word.lower() not in [t.lower() for t in tokens]:\n",
    "    print(f\"The word '{user_word}' is not in the sentence.\")\n",
    "else:\n",
    "    sense = lesk(tokens, user_word)\n",
    "    if sense:\n",
    "        print(f\"\\nThe sense of the word '{user_word}' in the sentence is: {sense.definition()}\")\n",
    "    else:\n",
    "        print(\"\\nNo sense could be determined (Lesk may be inaccurate).\")\n"
   ]
  },
  {
   "cell_type": "code",
   "execution_count": null,
   "id": "fb79c23a-9291-4d35-a9e8-526ad722d2c6",
   "metadata": {},
   "outputs": [],
   "source": []
  }
 ],
 "metadata": {
  "kernelspec": {
   "display_name": "Python 3 (ipykernel)",
   "language": "python",
   "name": "python3"
  },
  "language_info": {
   "codemirror_mode": {
    "name": "ipython",
    "version": 3
   },
   "file_extension": ".py",
   "mimetype": "text/x-python",
   "name": "python",
   "nbconvert_exporter": "python",
   "pygments_lexer": "ipython3",
   "version": "3.12.4"
  }
 },
 "nbformat": 4,
 "nbformat_minor": 5
}
